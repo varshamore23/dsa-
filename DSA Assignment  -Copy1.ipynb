{
 "cells": [
  {
   "cell_type": "code",
   "execution_count": null,
   "id": "0baffdb7",
   "metadata": {},
   "outputs": [],
   "source": [
    "%%js\n",
    "function getPairsCount(arr,n,sum)\n",
    "{\n",
    "    let count=0;\n",
    "    for(let i=0;i<n;i++)\n",
    "    for(let j=i+1;j<n;j++)\n",
    "    \n",
    "    if(arr[i]+arr[j]==sum)\n",
    "    count++;\n",
    "    return count;\n",
    "}\n",
    "let arr =[2,5,4,3,1,6];\n",
    "let n= arr.length;\n",
    "let sum =7;\n",
    "document.write(\"count of pairs is\" + getPairsCount(arr,n,sum));\n",
    "\n",
    "\n",
    "\n"
   ]
  },
  {
   "cell_type": "code",
   "execution_count": null,
   "id": "7b9f6e48",
   "metadata": {},
   "outputs": [],
   "source": []
  }
 ],
 "metadata": {
  "kernelspec": {
   "display_name": "Python 3 (ipykernel)",
   "language": "python",
   "name": "python3"
  },
  "language_info": {
   "codemirror_mode": {
    "name": "ipython",
    "version": 3
   },
   "file_extension": ".py",
   "mimetype": "text/x-python",
   "name": "python",
   "nbconvert_exporter": "python",
   "pygments_lexer": "ipython3",
   "version": "3.9.12"
  }
 },
 "nbformat": 4,
 "nbformat_minor": 5
}
